{
 "cells": [
  {
   "cell_type": "code",
   "execution_count": 1,
   "metadata": {},
   "outputs": [
    {
     "name": "stdout",
     "output_type": "stream",
     "text": [
      "OK\n"
     ]
    }
   ],
   "source": [
    "import cx_Oracle\n",
    "conn = cx_Oracle.connect('ANSTEEL/ANSTEEL@10.151.18.165:1521/NERCAR')\n",
    "print(\"OK\")"
   ]
  },
  {
   "cell_type": "code",
   "execution_count": 2,
   "metadata": {},
   "outputs": [
    {
     "name": "stdout",
     "output_type": "stream",
     "text": [
      "('NLSRTL ', '11.2.0.4.0', 'Production')\n",
      "('Oracle Database 11g Enterprise Edition ', '11.2.0.4.0', '64bit Production')\n",
      "('PL/SQL ', '11.2.0.4.0', 'Production')\n",
      "('TNS for 64-bit Windows: ', '11.2.0.4.0', 'Production')\n"
     ]
    }
   ],
   "source": [
    "curs = conn.cursor()\n",
    "sql = 'select * from product_component_version'\n",
    "curs.execute(sql)\n",
    "\n",
    "for result in curs:\n",
    "    print(result)\n",
    "\n",
    "curs.close()\n",
    "conn.close()"
   ]
  }
 ],
 "metadata": {
  "interpreter": {
   "hash": "859506bdd32b4e567d13b76aee61acee8a6244eb70378b8d449d3f498d1b2def"
  },
  "kernelspec": {
   "display_name": "Python 3.8.10 64-bit ('base': conda)",
   "language": "python",
   "name": "python3"
  },
  "language_info": {
   "codemirror_mode": {
    "name": "ipython",
    "version": 3
   },
   "file_extension": ".py",
   "mimetype": "text/x-python",
   "name": "python",
   "nbconvert_exporter": "python",
   "pygments_lexer": "ipython3",
   "version": "3.8.10"
  },
  "orig_nbformat": 4
 },
 "nbformat": 4,
 "nbformat_minor": 2
}
